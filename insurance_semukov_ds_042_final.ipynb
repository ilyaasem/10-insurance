{
 "cells": [
  {
   "cell_type": "markdown",
   "id": "ce99fd3c",
   "metadata": {},
   "source": [
    "# Защита персональных данных клиентов"
   ]
  },
  {
   "cell_type": "markdown",
   "id": "57a90e5c",
   "metadata": {},
   "source": [
    "<h1>Содержание<span class=\"tocSkip\"></span></h1>\n",
    "<div class=\"toc\"><ul class=\"toc-item\"><li><span><a href=\"#Загрузка-данных\" data-toc-modified-id=\"Загрузка-данных-1\"><span class=\"toc-item-num\">1&nbsp;&nbsp;</span>Загрузка данных</a></span></li><li><span><a href=\"#Умножение-матриц\" data-toc-modified-id=\"Умножение-матриц-2\"><span class=\"toc-item-num\">2&nbsp;&nbsp;</span>Умножение матриц</a></span></li><li><span><a href=\"#Алгоритм-преобразования\" data-toc-modified-id=\"Алгоритм-преобразования-3\"><span class=\"toc-item-num\">3&nbsp;&nbsp;</span>Алгоритм преобразования</a></span></li><li><span><a href=\"#Проверка-алгоритма\" data-toc-modified-id=\"Проверка-алгоритма-4\"><span class=\"toc-item-num\">4&nbsp;&nbsp;</span>Проверка алгоритма</a></span></li><li><span><a href=\"#Чек-лист-проверки\" data-toc-modified-id=\"Чек-лист-проверки-5\"><span class=\"toc-item-num\">5&nbsp;&nbsp;</span>Чек-лист проверки</a></span></li></ul></div>"
   ]
  },
  {
   "cell_type": "markdown",
   "id": "786d1133",
   "metadata": {},
   "source": [
    "В данном проекте нам необходимо защитить данные клиентов страховой компании «Хоть потоп». Разработаем такой метод преобразования данных, по которому будет сложно восстановить персональную информацию. Обоснуем корректность его работы.\n",
    "\n",
    "Данные будем защищать так, чтобы при преобразовании качество моделей машинного обучения не ухудшилось. Работа будет произведена без подбора наилучшей модели."
   ]
  },
  {
   "cell_type": "markdown",
   "id": "de4725be",
   "metadata": {},
   "source": [
    "## Цели проекта\n",
    "- защитить данные, чтобы при преобразовании качество моделей машинного обучения не ухудшилось. Подбирать наилучшую модель не требуется."
   ]
  },
  {
   "cell_type": "markdown",
   "id": "09c60985",
   "metadata": {},
   "source": [
    "**Признаки:**\n",
    "\n",
    "- пол, \n",
    "- возраст\n",
    "- зарплата застрахованного, \n",
    "- количество членов его семьи.\n",
    "        \n",
    "**Целевой признак:**\n",
    "\n",
    "- количество страховых выплат клиенту за последние 5 лет."
   ]
  },
  {
   "cell_type": "markdown",
   "id": "ce985767",
   "metadata": {},
   "source": [
    "## Загрузка данных"
   ]
  },
  {
   "cell_type": "code",
   "execution_count": 1,
   "id": "b6165519",
   "metadata": {},
   "outputs": [],
   "source": [
    "import pandas as pd\n",
    "import numpy as np\n",
    "import matplotlib.pyplot as plt\n",
    "import seaborn as sns\n",
    "\n",
    "from sklearn.linear_model import LinearRegression\n",
    "from sklearn.metrics import r2_score"
   ]
  },
  {
   "cell_type": "code",
   "execution_count": 2,
   "id": "206c495a",
   "metadata": {},
   "outputs": [
    {
     "name": "stdout",
     "output_type": "stream",
     "text": [
      "<class 'pandas.core.frame.DataFrame'>\n",
      "RangeIndex: 5000 entries, 0 to 4999\n",
      "Data columns (total 5 columns):\n",
      " #   Column             Non-Null Count  Dtype  \n",
      "---  ------             --------------  -----  \n",
      " 0   Пол                5000 non-null   int64  \n",
      " 1   Возраст            5000 non-null   float64\n",
      " 2   Зарплата           5000 non-null   float64\n",
      " 3   Члены семьи        5000 non-null   int64  \n",
      " 4   Страховые выплаты  5000 non-null   int64  \n",
      "dtypes: float64(2), int64(3)\n",
      "memory usage: 195.4 KB\n"
     ]
    }
   ],
   "source": [
    "# читаем данные из .csv файла с помощью метода read_csv()\n",
    "try:\n",
    "    df = pd.read_csv('D:\\\\python\\\\project_10\\\\insurance.csv')\n",
    "except:\n",
    "    df = pd.read_csv('https://code.s3.yandex.net/datasets/insurance.csv')\n",
    "\n",
    "# с помощью метода info() изучим структуру таблицы: типы данных, количество строк, столбцов, пропущенных данных.\n",
    "df.info()"
   ]
  },
  {
   "cell_type": "code",
   "execution_count": 3,
   "id": "d7a94849",
   "metadata": {},
   "outputs": [
    {
     "data": {
      "text/html": [
       "<div>\n",
       "<style scoped>\n",
       "    .dataframe tbody tr th:only-of-type {\n",
       "        vertical-align: middle;\n",
       "    }\n",
       "\n",
       "    .dataframe tbody tr th {\n",
       "        vertical-align: top;\n",
       "    }\n",
       "\n",
       "    .dataframe thead th {\n",
       "        text-align: right;\n",
       "    }\n",
       "</style>\n",
       "<table border=\"1\" class=\"dataframe\">\n",
       "  <thead>\n",
       "    <tr style=\"text-align: right;\">\n",
       "      <th></th>\n",
       "      <th>Пол</th>\n",
       "      <th>Возраст</th>\n",
       "      <th>Зарплата</th>\n",
       "      <th>Члены семьи</th>\n",
       "      <th>Страховые выплаты</th>\n",
       "    </tr>\n",
       "  </thead>\n",
       "  <tbody>\n",
       "    <tr>\n",
       "      <th>0</th>\n",
       "      <td>1</td>\n",
       "      <td>41.0</td>\n",
       "      <td>49600.0</td>\n",
       "      <td>1</td>\n",
       "      <td>0</td>\n",
       "    </tr>\n",
       "    <tr>\n",
       "      <th>1</th>\n",
       "      <td>0</td>\n",
       "      <td>46.0</td>\n",
       "      <td>38000.0</td>\n",
       "      <td>1</td>\n",
       "      <td>1</td>\n",
       "    </tr>\n",
       "    <tr>\n",
       "      <th>2</th>\n",
       "      <td>0</td>\n",
       "      <td>29.0</td>\n",
       "      <td>21000.0</td>\n",
       "      <td>0</td>\n",
       "      <td>0</td>\n",
       "    </tr>\n",
       "    <tr>\n",
       "      <th>3</th>\n",
       "      <td>0</td>\n",
       "      <td>21.0</td>\n",
       "      <td>41700.0</td>\n",
       "      <td>2</td>\n",
       "      <td>0</td>\n",
       "    </tr>\n",
       "    <tr>\n",
       "      <th>4</th>\n",
       "      <td>1</td>\n",
       "      <td>28.0</td>\n",
       "      <td>26100.0</td>\n",
       "      <td>0</td>\n",
       "      <td>0</td>\n",
       "    </tr>\n",
       "    <tr>\n",
       "      <th>5</th>\n",
       "      <td>1</td>\n",
       "      <td>43.0</td>\n",
       "      <td>41000.0</td>\n",
       "      <td>2</td>\n",
       "      <td>1</td>\n",
       "    </tr>\n",
       "    <tr>\n",
       "      <th>6</th>\n",
       "      <td>1</td>\n",
       "      <td>39.0</td>\n",
       "      <td>39700.0</td>\n",
       "      <td>2</td>\n",
       "      <td>0</td>\n",
       "    </tr>\n",
       "    <tr>\n",
       "      <th>7</th>\n",
       "      <td>1</td>\n",
       "      <td>25.0</td>\n",
       "      <td>38600.0</td>\n",
       "      <td>4</td>\n",
       "      <td>0</td>\n",
       "    </tr>\n",
       "    <tr>\n",
       "      <th>8</th>\n",
       "      <td>1</td>\n",
       "      <td>36.0</td>\n",
       "      <td>49700.0</td>\n",
       "      <td>1</td>\n",
       "      <td>0</td>\n",
       "    </tr>\n",
       "    <tr>\n",
       "      <th>9</th>\n",
       "      <td>1</td>\n",
       "      <td>32.0</td>\n",
       "      <td>51700.0</td>\n",
       "      <td>1</td>\n",
       "      <td>0</td>\n",
       "    </tr>\n",
       "  </tbody>\n",
       "</table>\n",
       "</div>"
      ],
      "text/plain": [
       "   Пол  Возраст  Зарплата  Члены семьи  Страховые выплаты\n",
       "0    1     41.0   49600.0            1                  0\n",
       "1    0     46.0   38000.0            1                  1\n",
       "2    0     29.0   21000.0            0                  0\n",
       "3    0     21.0   41700.0            2                  0\n",
       "4    1     28.0   26100.0            0                  0\n",
       "5    1     43.0   41000.0            2                  1\n",
       "6    1     39.0   39700.0            2                  0\n",
       "7    1     25.0   38600.0            4                  0\n",
       "8    1     36.0   49700.0            1                  0\n",
       "9    1     32.0   51700.0            1                  0"
      ]
     },
     "execution_count": 3,
     "metadata": {},
     "output_type": "execute_result"
    }
   ],
   "source": [
    "df.head(10)"
   ]
  },
  {
   "cell_type": "markdown",
   "id": "7b7063c7",
   "metadata": {},
   "source": [
    "- В таблице 5000 столбцов.\n",
    "- Пропусков не обнаружено.\n",
    "- Тип данных в столбце Возраст можно привести в целочисленному\n",
    "- Тип данных в столбце Зарплата можно привести в целочисленному\n",
    "- Наименование колонок можно изменить на аналог на английском языке и привести к единому регистру"
   ]
  },
  {
   "cell_type": "markdown",
   "id": "8b34a290",
   "metadata": {},
   "source": [
    "Проверим данные на дубликаты."
   ]
  },
  {
   "cell_type": "code",
   "execution_count": 4,
   "id": "246160c1",
   "metadata": {},
   "outputs": [
    {
     "data": {
      "text/plain": [
       "153"
      ]
     },
     "execution_count": 4,
     "metadata": {},
     "output_type": "execute_result"
    }
   ],
   "source": [
    "df.duplicated().sum()"
   ]
  },
  {
   "cell_type": "markdown",
   "id": "73c0aa8f",
   "metadata": {},
   "source": [
    "Обнаружены дубликаты, избавимся от них."
   ]
  },
  {
   "cell_type": "code",
   "execution_count": 5,
   "id": "3d8180a7",
   "metadata": {},
   "outputs": [],
   "source": [
    "df = df.drop_duplicates().reset_index(drop=True)"
   ]
  },
  {
   "cell_type": "markdown",
   "id": "17984e62",
   "metadata": {},
   "source": [
    "Повторная проверка на пропущенные значения."
   ]
  },
  {
   "cell_type": "code",
   "execution_count": 6,
   "id": "1a86956f",
   "metadata": {
    "scrolled": true
   },
   "outputs": [
    {
     "data": {
      "text/plain": [
       "Пол                  0\n",
       "Возраст              0\n",
       "Зарплата             0\n",
       "Члены семьи          0\n",
       "Страховые выплаты    0\n",
       "dtype: int64"
      ]
     },
     "execution_count": 6,
     "metadata": {},
     "output_type": "execute_result"
    }
   ],
   "source": [
    "df.isna().sum()"
   ]
  },
  {
   "cell_type": "markdown",
   "id": "e87b288d",
   "metadata": {},
   "source": [
    "Посмотрим описание таблицы."
   ]
  },
  {
   "cell_type": "code",
   "execution_count": 7,
   "id": "5cf2e736",
   "metadata": {},
   "outputs": [
    {
     "data": {
      "text/html": [
       "<div>\n",
       "<style scoped>\n",
       "    .dataframe tbody tr th:only-of-type {\n",
       "        vertical-align: middle;\n",
       "    }\n",
       "\n",
       "    .dataframe tbody tr th {\n",
       "        vertical-align: top;\n",
       "    }\n",
       "\n",
       "    .dataframe thead th {\n",
       "        text-align: right;\n",
       "    }\n",
       "</style>\n",
       "<table border=\"1\" class=\"dataframe\">\n",
       "  <thead>\n",
       "    <tr style=\"text-align: right;\">\n",
       "      <th></th>\n",
       "      <th>Пол</th>\n",
       "      <th>Возраст</th>\n",
       "      <th>Зарплата</th>\n",
       "      <th>Члены семьи</th>\n",
       "      <th>Страховые выплаты</th>\n",
       "    </tr>\n",
       "  </thead>\n",
       "  <tbody>\n",
       "    <tr>\n",
       "      <th>count</th>\n",
       "      <td>4847.000000</td>\n",
       "      <td>4847.000000</td>\n",
       "      <td>4847.000000</td>\n",
       "      <td>4847.000000</td>\n",
       "      <td>4847.000000</td>\n",
       "    </tr>\n",
       "    <tr>\n",
       "      <th>mean</th>\n",
       "      <td>0.498453</td>\n",
       "      <td>31.023932</td>\n",
       "      <td>39895.811842</td>\n",
       "      <td>1.203425</td>\n",
       "      <td>0.152259</td>\n",
       "    </tr>\n",
       "    <tr>\n",
       "      <th>std</th>\n",
       "      <td>0.500049</td>\n",
       "      <td>8.487995</td>\n",
       "      <td>9972.953985</td>\n",
       "      <td>1.098664</td>\n",
       "      <td>0.468934</td>\n",
       "    </tr>\n",
       "    <tr>\n",
       "      <th>min</th>\n",
       "      <td>0.000000</td>\n",
       "      <td>18.000000</td>\n",
       "      <td>5300.000000</td>\n",
       "      <td>0.000000</td>\n",
       "      <td>0.000000</td>\n",
       "    </tr>\n",
       "    <tr>\n",
       "      <th>25%</th>\n",
       "      <td>0.000000</td>\n",
       "      <td>24.000000</td>\n",
       "      <td>33200.000000</td>\n",
       "      <td>0.000000</td>\n",
       "      <td>0.000000</td>\n",
       "    </tr>\n",
       "    <tr>\n",
       "      <th>50%</th>\n",
       "      <td>0.000000</td>\n",
       "      <td>30.000000</td>\n",
       "      <td>40200.000000</td>\n",
       "      <td>1.000000</td>\n",
       "      <td>0.000000</td>\n",
       "    </tr>\n",
       "    <tr>\n",
       "      <th>75%</th>\n",
       "      <td>1.000000</td>\n",
       "      <td>37.000000</td>\n",
       "      <td>46600.000000</td>\n",
       "      <td>2.000000</td>\n",
       "      <td>0.000000</td>\n",
       "    </tr>\n",
       "    <tr>\n",
       "      <th>max</th>\n",
       "      <td>1.000000</td>\n",
       "      <td>65.000000</td>\n",
       "      <td>79000.000000</td>\n",
       "      <td>6.000000</td>\n",
       "      <td>5.000000</td>\n",
       "    </tr>\n",
       "  </tbody>\n",
       "</table>\n",
       "</div>"
      ],
      "text/plain": [
       "               Пол      Возраст      Зарплата  Члены семьи  Страховые выплаты\n",
       "count  4847.000000  4847.000000   4847.000000  4847.000000        4847.000000\n",
       "mean      0.498453    31.023932  39895.811842     1.203425           0.152259\n",
       "std       0.500049     8.487995   9972.953985     1.098664           0.468934\n",
       "min       0.000000    18.000000   5300.000000     0.000000           0.000000\n",
       "25%       0.000000    24.000000  33200.000000     0.000000           0.000000\n",
       "50%       0.000000    30.000000  40200.000000     1.000000           0.000000\n",
       "75%       1.000000    37.000000  46600.000000     2.000000           0.000000\n",
       "max       1.000000    65.000000  79000.000000     6.000000           5.000000"
      ]
     },
     "execution_count": 7,
     "metadata": {},
     "output_type": "execute_result"
    }
   ],
   "source": [
    "df.describe()"
   ]
  },
  {
   "cell_type": "markdown",
   "id": "a2159890",
   "metadata": {},
   "source": [
    "Переименуем столбцы."
   ]
  },
  {
   "cell_type": "code",
   "execution_count": 8,
   "id": "ed2229f7",
   "metadata": {
    "scrolled": true
   },
   "outputs": [],
   "source": [
    "df.rename(columns={'Пол': 'gender', \n",
    "                   'Возраст': 'age', \n",
    "                   'Зарплата': 'salary', \n",
    "                   'Члены семьи': 'family_members', \n",
    "                   'Страховые выплаты': 'insurance_benefits',}, inplace=True)"
   ]
  },
  {
   "cell_type": "markdown",
   "id": "ba747beb",
   "metadata": {},
   "source": [
    "Приведем к целочисленному типу данные в столбцах age, salary"
   ]
  },
  {
   "cell_type": "code",
   "execution_count": 9,
   "id": "b2c16093",
   "metadata": {},
   "outputs": [],
   "source": [
    "df['age']=df['age'].astype('int')\n",
    "df['salary']=df['salary'].astype('int')"
   ]
  },
  {
   "cell_type": "code",
   "execution_count": 10,
   "id": "373d6bc5",
   "metadata": {},
   "outputs": [
    {
     "data": {
      "text/html": [
       "<div>\n",
       "<style scoped>\n",
       "    .dataframe tbody tr th:only-of-type {\n",
       "        vertical-align: middle;\n",
       "    }\n",
       "\n",
       "    .dataframe tbody tr th {\n",
       "        vertical-align: top;\n",
       "    }\n",
       "\n",
       "    .dataframe thead th {\n",
       "        text-align: right;\n",
       "    }\n",
       "</style>\n",
       "<table border=\"1\" class=\"dataframe\">\n",
       "  <thead>\n",
       "    <tr style=\"text-align: right;\">\n",
       "      <th></th>\n",
       "      <th>gender</th>\n",
       "      <th>age</th>\n",
       "      <th>salary</th>\n",
       "      <th>family_members</th>\n",
       "      <th>insurance_benefits</th>\n",
       "    </tr>\n",
       "  </thead>\n",
       "  <tbody>\n",
       "    <tr>\n",
       "      <th>0</th>\n",
       "      <td>1</td>\n",
       "      <td>41</td>\n",
       "      <td>49600</td>\n",
       "      <td>1</td>\n",
       "      <td>0</td>\n",
       "    </tr>\n",
       "    <tr>\n",
       "      <th>1</th>\n",
       "      <td>0</td>\n",
       "      <td>46</td>\n",
       "      <td>38000</td>\n",
       "      <td>1</td>\n",
       "      <td>1</td>\n",
       "    </tr>\n",
       "    <tr>\n",
       "      <th>2</th>\n",
       "      <td>0</td>\n",
       "      <td>29</td>\n",
       "      <td>21000</td>\n",
       "      <td>0</td>\n",
       "      <td>0</td>\n",
       "    </tr>\n",
       "    <tr>\n",
       "      <th>3</th>\n",
       "      <td>0</td>\n",
       "      <td>21</td>\n",
       "      <td>41700</td>\n",
       "      <td>2</td>\n",
       "      <td>0</td>\n",
       "    </tr>\n",
       "    <tr>\n",
       "      <th>4</th>\n",
       "      <td>1</td>\n",
       "      <td>28</td>\n",
       "      <td>26100</td>\n",
       "      <td>0</td>\n",
       "      <td>0</td>\n",
       "    </tr>\n",
       "  </tbody>\n",
       "</table>\n",
       "</div>"
      ],
      "text/plain": [
       "   gender  age  salary  family_members  insurance_benefits\n",
       "0       1   41   49600               1                   0\n",
       "1       0   46   38000               1                   1\n",
       "2       0   29   21000               0                   0\n",
       "3       0   21   41700               2                   0\n",
       "4       1   28   26100               0                   0"
      ]
     },
     "execution_count": 10,
     "metadata": {},
     "output_type": "execute_result"
    }
   ],
   "source": [
    "df.head()"
   ]
  },
  {
   "cell_type": "code",
   "execution_count": 11,
   "id": "068ddf37",
   "metadata": {},
   "outputs": [
    {
     "data": {
      "text/html": [
       "<div>\n",
       "<style scoped>\n",
       "    .dataframe tbody tr th:only-of-type {\n",
       "        vertical-align: middle;\n",
       "    }\n",
       "\n",
       "    .dataframe tbody tr th {\n",
       "        vertical-align: top;\n",
       "    }\n",
       "\n",
       "    .dataframe thead th {\n",
       "        text-align: right;\n",
       "    }\n",
       "</style>\n",
       "<table border=\"1\" class=\"dataframe\">\n",
       "  <thead>\n",
       "    <tr style=\"text-align: right;\">\n",
       "      <th></th>\n",
       "      <th>gender</th>\n",
       "      <th>age</th>\n",
       "      <th>salary</th>\n",
       "      <th>family_members</th>\n",
       "      <th>insurance_benefits</th>\n",
       "    </tr>\n",
       "  </thead>\n",
       "  <tbody>\n",
       "    <tr>\n",
       "      <th>gender</th>\n",
       "      <td>1.000000</td>\n",
       "      <td>0.001953</td>\n",
       "      <td>0.015456</td>\n",
       "      <td>-0.007315</td>\n",
       "      <td>0.011565</td>\n",
       "    </tr>\n",
       "    <tr>\n",
       "      <th>age</th>\n",
       "      <td>0.001953</td>\n",
       "      <td>1.000000</td>\n",
       "      <td>-0.017386</td>\n",
       "      <td>-0.009064</td>\n",
       "      <td>0.654964</td>\n",
       "    </tr>\n",
       "    <tr>\n",
       "      <th>salary</th>\n",
       "      <td>0.015456</td>\n",
       "      <td>-0.017386</td>\n",
       "      <td>1.000000</td>\n",
       "      <td>-0.031687</td>\n",
       "      <td>-0.013123</td>\n",
       "    </tr>\n",
       "    <tr>\n",
       "      <th>family_members</th>\n",
       "      <td>-0.007315</td>\n",
       "      <td>-0.009064</td>\n",
       "      <td>-0.031687</td>\n",
       "      <td>1.000000</td>\n",
       "      <td>-0.039303</td>\n",
       "    </tr>\n",
       "    <tr>\n",
       "      <th>insurance_benefits</th>\n",
       "      <td>0.011565</td>\n",
       "      <td>0.654964</td>\n",
       "      <td>-0.013123</td>\n",
       "      <td>-0.039303</td>\n",
       "      <td>1.000000</td>\n",
       "    </tr>\n",
       "  </tbody>\n",
       "</table>\n",
       "</div>"
      ],
      "text/plain": [
       "                      gender       age    salary  family_members  \\\n",
       "gender              1.000000  0.001953  0.015456       -0.007315   \n",
       "age                 0.001953  1.000000 -0.017386       -0.009064   \n",
       "salary              0.015456 -0.017386  1.000000       -0.031687   \n",
       "family_members     -0.007315 -0.009064 -0.031687        1.000000   \n",
       "insurance_benefits  0.011565  0.654964 -0.013123       -0.039303   \n",
       "\n",
       "                    insurance_benefits  \n",
       "gender                        0.011565  \n",
       "age                           0.654964  \n",
       "salary                       -0.013123  \n",
       "family_members               -0.039303  \n",
       "insurance_benefits            1.000000  "
      ]
     },
     "execution_count": 11,
     "metadata": {},
     "output_type": "execute_result"
    }
   ],
   "source": [
    "df.corr()"
   ]
  },
  {
   "cell_type": "markdown",
   "id": "d50741f7",
   "metadata": {},
   "source": [
    "Не очень наглядно. Визуализируем."
   ]
  },
  {
   "cell_type": "code",
   "execution_count": 12,
   "id": "f6a81590",
   "metadata": {},
   "outputs": [
    {
     "data": {
      "image/png": "[encoded data removed]",
      "text/plain": [
       "<Figure size 432x288 with 2 Axes>"
      ]
     },
     "metadata": {},
     "output_type": "display_data"
    }
   ],
   "source": [
    "sns.set(font_scale=1)\n",
    "sns.heatmap(df.corr(), annot=True)\n",
    "plt.title('Матрица корреляции числовых признаков', fontsize=15)\n",
    "\n",
    "plt.show()"
   ]
  },
  {
   "cell_type": "markdown",
   "id": "3d85e4d7",
   "metadata": {},
   "source": [
    "- Заметно, что самая сильная взаимосвязь страховых выплат коррелирует с возрастом. \n",
    "- Остальные зависимости практически не выражены."
   ]
  },
  {
   "cell_type": "markdown",
   "id": "3fa75cd5",
   "metadata": {},
   "source": [
    "## Умножение матриц"
   ]
  },
  {
   "cell_type": "markdown",
   "id": "b039cae7",
   "metadata": {},
   "source": [
    "**Ответим на вопрос, изменится ли качество линейной регрессии, если признаки умножить на обратимую матрицу?**"
   ]
  },
  {
   "cell_type": "markdown",
   "id": "24f77a65",
   "metadata": {},
   "source": [
    "Обозначения:\n",
    "\n",
    "- $X$ — матрица признаков (нулевой столбец состоит из единиц)\n",
    "\n",
    "- $y$ — вектор целевого признака\n",
    "\n",
    "- $P$ — матрица, на которую умножаются признаки\n",
    "\n",
    "- $w$ — вектор весов линейной регрессии (нулевой элемент равен сдвигу)"
   ]
  },
  {
   "cell_type": "markdown",
   "id": "b11b8441",
   "metadata": {},
   "source": [
    "Предсказания:\n",
    "\n",
    "$$\n",
    "a = Xw\n",
    "$$\n",
    "\n",
    "Задача обучения:\n",
    "\n",
    "$$\n",
    "w = \\arg\\min_w MSE(Xw, y)\n",
    "$$\n",
    "\n",
    "Формула обучения:\n",
    "\n",
    "$$\n",
    "w = (X^T X)^{-1} X^T y\n",
    "$$"
   ]
  },
  {
   "cell_type": "markdown",
   "id": "bc4bb3ef",
   "metadata": {},
   "source": [
    "**Ответ:** При умножении признаков $X$ (матрица признаков (нулевой столбец состоит из единиц)) на случайную обратимую матрицу ($O$) качество линейной регрессии не поменяется."
   ]
  },
  {
   "cell_type": "markdown",
   "id": "b95d1c5a",
   "metadata": {},
   "source": [
    "При обосновании будем учитывать формулы матричных операций:\n",
    "    \n",
    "$(AB)^T = B^T A^T $; $(AB)^{-1} = B^{-1}A^{-1}$; $ AE = EA = A $."
   ]
  },
  {
   "cell_type": "markdown",
   "id": "a7988cf8",
   "metadata": {},
   "source": [
    "**Обоснование:**\n",
    "\n",
    "Докажем это посредством добавления в формулу обучения $w$ произведения случайной обратимой матрицы $O$*$x$ вместо $x$.\n",
    "1) $$\n",
    "w2 = ((XO)^T (XO))^{-1}(XO)^Ty\n",
    "$$\n",
    "\n",
    "2) $$\n",
    " w2 = ((XO)^T XO)^{-1}(XO)^Ty\n",
    "$$\n",
    "3) раскроем скобки (XO)^T = O^T X^T\n",
    "$$\n",
    "w2 = (O^T X^T X O)^{-1} O^T X^T y\n",
    "$$\n",
    "4) Раскроем скобки, воспользовавшись свойством\n",
    "$(ABC)^{-1} = ((AB)C)^{-1} = C^{-1}(AB)^{-1}$\n",
    "$$ \n",
    "w2 = O^{-1} (O^T X^T X)^{-1} O^T X^T y \n",
    "$$\n",
    "$$\n",
    "w2 = O^{-1} (X^T X)^{-1} (O^T)^{-1} O^T X^T y\n",
    "$$\n",
    "\n",
    "5) \n",
    "Поскольку в условии задачи указано, что матрицу признаков умножают на *обратимую* случайную матрицу ($O$), то значит мы можем воспользоваться свойством обратимых матриц \n",
    "$ OE = EO = O $,\n",
    "где $E$ - это единичная матрица.\n",
    "\n",
    "Применяем два свойства\n",
    "$ (O^T)^{-1} O^T = E $ (единичная матрица)\n",
    "$ OE = EO = O $\n",
    "и получаем\n",
    "$$\n",
    "w2 = O^{-1} (X^T X)^{-1} E X^T y\n",
    "w2 = O^{-1} (X^T X)^{-1} X^T y\n",
    "$$\n",
    "\n",
    "\n",
    "заметим, что внутри нашей получилась формула $w$\n",
    "$$\n",
    "w = (X^T X)^{-1} X^T y\n",
    "$$\n",
    "\n",
    "\n",
    "скомпануем два выражения (подставим $w$ в нашу формулу) и получим\n",
    "\n",
    "*Алгоритм преобразования данных для решения задачи:*\n",
    "\n",
    "$$\n",
    "w2 = O^{-1} w\n",
    "$$\n",
    "\n",
    "Подставим получившееся выражение в формулу предсказаний для линейной регрессии, которая с изменениями (добавим обратимую матрицу в обе части выражения) выглядит так \n",
    "\n",
    "Предсказания:\n",
    "\n",
    "$$\n",
    "a = (XO) w2\n",
    "$$\n",
    "$$\n",
    "a = (XO) (O^{-1}w)\n",
    "$$\n",
    "$$\n",
    "a = Xw\n",
    "$$\n",
    "\n",
    "По итогу получили то, от чего отталкивались - исходную формулу предсказаний без ухудшения качества, то есть мы доказали, что качество линейной регресии не изменится от умножения признаков на обратимую матрицу, а данные тем не менее зашифрованы путем преобразований весов линейной регрессии.\n",
    "\n",
    "\n",
    "\n",
    "$$\n",
    "w2 = O^{-1} w\n",
    "$$"
   ]
  },
  {
   "cell_type": "markdown",
   "id": "f4448d7f",
   "metadata": {},
   "source": [
    "**Ответим на вопрос, изменится ли качество линейной регрессии, если признаки умножить на обратимую матрицу?**\n",
    "\n",
    "b. Не изменится. Укажите, как связаны параметры линейной регрессии в исходной задаче и в преобразованной.\n",
    "\n",
    "Предложите алгоритм преобразования данных для решения задачи. Обоснуйте, почему качество линейной регрессии не поменяется.\n",
    "\n",
    "Запрограммируйте этот алгоритм, применив матричные операции. Проверьте, что качество линейной регрессии из sklearn не отличается до и после преобразования. Примените метрику R2."
   ]
  },
  {
   "cell_type": "markdown",
   "id": "c954caf2",
   "metadata": {},
   "source": [
    "## Алгоритм преобразования"
   ]
  },
  {
   "cell_type": "markdown",
   "id": "fa96d997",
   "metadata": {},
   "source": [
    "**Алгоритм**\n",
    "\n",
    "*Алгоритм преобразования данных для решения задачи:*\n",
    "\n",
    "\n",
    "\n",
    "$$\n",
    "w2 = O^{-1} w\n",
    "$$\n",
    "\n",
    "где $O$ - *обратимая* случайная матрица\n",
    "\n",
    "$w2$ - вектор весов линейной регрессии (нулевой элемент равен сдвигу), если признаки умножить на обратимую матрицу"
   ]
  },
  {
   "cell_type": "markdown",
   "id": "44d3d789",
   "metadata": {},
   "source": [
    "**Обоснование**\n",
    "\n",
    "Подставим получившееся выражение в формулу предсказаний для линейной регрессии, которая с изменениями (добавим обратимую матрицу в обе части выражения) выглядит так \n",
    "\n",
    "Предсказания:\n",
    "\n",
    "$$\n",
    "a = (XO) w2\n",
    "$$\n",
    "$$\n",
    "a = (XO) (O^{-1}w)\n",
    "$$\n",
    "$$\n",
    "a = Xw\n",
    "$$\n",
    "\n",
    "По итогу получили то, от чего отталкивались - исходную формулу предсказаний без ухудшения качества, то есть мы доказали, что качество линейной регресии не изменится от умножения признаков на обратимую матрицу, а данные тем не менее зашифрованы путем преобразований."
   ]
  },
  {
   "cell_type": "markdown",
   "id": "ce015a58",
   "metadata": {},
   "source": [
    "Необходимо выделить признаки в данных и умножить на случайную матрицу и сравнить метрики R2 в обученной модели с учетом умножения на случайную матрицу и без учета умножения на случайную матрицу."
   ]
  },
  {
   "cell_type": "markdown",
   "id": "dd431339",
   "metadata": {},
   "source": [
    "## Проверка алгоритма"
   ]
  },
  {
   "cell_type": "markdown",
   "id": "a983d869",
   "metadata": {},
   "source": [
    "Обозначим случайную обратимую матрицу *random_matrix*.\n",
    "Размеры должны быть равными признакам features -  4 признака"
   ]
  },
  {
   "cell_type": "code",
   "execution_count": 13,
   "id": "812f8443",
   "metadata": {},
   "outputs": [
    {
     "data": {
      "text/plain": [
       "array([[49.59757537, 51.17197652, 50.61104944, 48.39453468],\n",
       "       [49.23287563, 49.68556785, 50.10037416, 49.59678127],\n",
       "       [50.45401106, 50.16942182, 50.31688495, 48.68893953],\n",
       "       [49.36320217, 49.77264144, 49.64065613, 49.20172427]])"
      ]
     },
     "execution_count": 13,
     "metadata": {},
     "output_type": "execute_result"
    }
   ],
   "source": [
    "matrix_random = np.random.normal(50, size=(4,4))\n",
    "matrix_random"
   ]
  },
  {
   "cell_type": "markdown",
   "id": "630cf435",
   "metadata": {},
   "source": [
    "Проверим матрицу на обратимость."
   ]
  },
  {
   "cell_type": "code",
   "execution_count": 14,
   "id": "9a0a005c",
   "metadata": {
    "scrolled": true
   },
   "outputs": [
    {
     "data": {
      "text/plain": [
       "array([[-0.4305537 , -0.68334996,  0.67881293,  0.44058868],\n",
       "       [ 0.49130767, -1.09425895, -0.67860815,  1.29133334],\n",
       "       [ 0.20221221,  1.75837577,  0.44537442, -2.41212181],\n",
       "       [-0.269058  ,  0.01848663, -0.44390596,  0.70561288]])"
      ]
     },
     "execution_count": 14,
     "metadata": {},
     "output_type": "execute_result"
    }
   ],
   "source": [
    "matrix_inv = np.linalg.inv(matrix_random)\n",
    "try:\n",
    "    matrix_inv = np.linalg.inv(matrix_random)\n",
    "except:\n",
    "    print('Ошибка: необратимая матрица')\n",
    "matrix_inv"
   ]
  },
  {
   "cell_type": "markdown",
   "id": "09b6c81d",
   "metadata": {},
   "source": [
    "Выделяем целевой признак и признаки для обучения модели"
   ]
  },
  {
   "cell_type": "code",
   "execution_count": 15,
   "id": "63466a04",
   "metadata": {},
   "outputs": [],
   "source": [
    "features = df.drop('insurance_benefits', axis=1)\n",
    "target = df['insurance_benefits']\n",
    "\n",
    "# для удобства чтения формулы обозначим признаки и целевой признак\n",
    "x = features\n",
    "y = target"
   ]
  },
  {
   "cell_type": "markdown",
   "id": "90590756",
   "metadata": {},
   "source": [
    "Сначала рассчитаем вектор весов линейной регрессии без учета умножения на случайную матрицу по формуле обучения:\n",
    "\n",
    "$$\n",
    "w = (X^T X)^{-1} X^T y\n",
    "$$\n",
    "\n",
    "Затем получим предсказания без шифрования признаков используя стандартную формулу предсказаний:\n",
    "\n",
    "$$\n",
    "a = Xw\n",
    "$$"
   ]
  },
  {
   "cell_type": "code",
   "execution_count": 16,
   "id": "fbc3a28f",
   "metadata": {},
   "outputs": [],
   "source": [
    "w = np.linalg.inv(x.T.dot(x)).dot(x.T).dot(y)\n",
    "\n",
    "a = x @ w"
   ]
  },
  {
   "cell_type": "markdown",
   "id": "26fedf5b",
   "metadata": {},
   "source": [
    "Аналогичные операции выполним для $w2$.\n",
    "\n",
    "Произведем шифрование признаков $x$ путем умножения на обратимую случайную матрицу $O$:\n",
    "\n",
    "$O$*$x$\n",
    "\n",
    "Рассчитаем вектор весов линейной регрессии с учетом умножения на случайную матрицу по выведенной формуле:\n",
    "$$\n",
    "w2 = O^{-1} w\n",
    "$$\n",
    "\n",
    "Затем получим предсказания признаков с учетом шифрования используя стандартную формулу предсказаний:\n",
    "\n",
    "$$\n",
    "a = X2 w2\n",
    "$$"
   ]
  },
  {
   "cell_type": "code",
   "execution_count": 17,
   "id": "bf05e787",
   "metadata": {},
   "outputs": [],
   "source": [
    "x2 = x @ matrix_random\n",
    "\n",
    "#w2 = np.linalg.inv(matrix_random) * w\n",
    "w2 = np.linalg.inv(x2.T.dot(x2)).dot(x2.T).dot(y)\n",
    "\n",
    "a2 = x2 @ w2"
   ]
  },
  {
   "cell_type": "markdown",
   "id": "1d318d39",
   "metadata": {},
   "source": [
    "Сравним расхождения между предсказаниями по преобразованным a2 и исходным признакам a.\n",
    "Затем вычислим сумму всех элементов вектора difference"
   ]
  },
  {
   "cell_type": "code",
   "execution_count": 18,
   "id": "15b355af",
   "metadata": {},
   "outputs": [
    {
     "data": {
      "text/plain": [
       "-0.12917547446358726"
      ]
     },
     "execution_count": 18,
     "metadata": {},
     "output_type": "execute_result"
    }
   ],
   "source": [
    "difference = a - a2\n",
    "\n",
    "difference.sum()"
   ]
  },
  {
   "cell_type": "code",
   "execution_count": 19,
   "id": "97dedfcf",
   "metadata": {},
   "outputs": [
    {
     "data": {
      "text/plain": [
       "<AxesSubplot:>"
      ]
     },
     "execution_count": 19,
     "metadata": {},
     "output_type": "execute_result"
    },
    {
     "data": {
      "image/png": "[encoded data removed]",
      "text/plain": [
       "<Figure size 432x288 with 1 Axes>"
      ]
     },
     "metadata": {},
     "output_type": "display_data"
    }
   ],
   "source": [
    "difference.hist()"
   ]
  },
  {
   "cell_type": "markdown",
   "id": "c7b6847a",
   "metadata": {},
   "source": [
    "Расхождения минимальны."
   ]
  },
  {
   "cell_type": "markdown",
   "id": "109d01e2",
   "metadata": {},
   "source": [
    "Обучим модель на первоначальных данных и посчитаем метрику R2:"
   ]
  },
  {
   "cell_type": "code",
   "execution_count": 20,
   "id": "3e7ef749",
   "metadata": {},
   "outputs": [
    {
     "name": "stdout",
     "output_type": "stream",
     "text": [
      "Метрика R2 первоначальной модели:  0.4302\n"
     ]
    }
   ],
   "source": [
    "model=LinearRegression()\n",
    "model.fit(features, target)\n",
    "predictions = model.predict(features)\n",
    "print('Метрика R2 первоначальной модели: ', (r2_score(target, predictions)).round(4))"
   ]
  },
  {
   "cell_type": "markdown",
   "id": "53a6ba3f",
   "metadata": {},
   "source": [
    "Произведем преобразование данных - матрицу признаков умножим на произвольную обратимую матрицу. \n",
    "Обучим модель на преобразованных данных, посчитаем метрику R2 и сравним результаты метрики."
   ]
  },
  {
   "cell_type": "code",
   "execution_count": 21,
   "id": "dc0f7908",
   "metadata": {},
   "outputs": [
    {
     "name": "stdout",
     "output_type": "stream",
     "text": [
      "Метрика R2 преобразованной модели:  0.4302\n"
     ]
    }
   ],
   "source": [
    "features_matrix_random = features @ matrix_inv\n",
    "model.fit(features_matrix_random, target)\n",
    "predictions_matrix = model.predict(features_matrix_random)\n",
    "print('Метрика R2 преобразованной модели: ', (r2_score(target, predictions_matrix)).round(4))"
   ]
  },
  {
   "cell_type": "markdown",
   "id": "011859ef",
   "metadata": {},
   "source": [
    "## Вывод\n",
    "\n",
    "Исходя из значений полученных метрик R2, наблюдаем что качество моделей до и после преобразований не отличается, значит мы успешно справились с поставленной задачей - нам удалось зашифровать персональные данные клиентов без изменения качества модели. "
   ]
  },
  {
   "cell_type": "markdown",
   "id": "79a32172",
   "metadata": {},
   "source": [
    "## Чек-лист проверки"
   ]
  },
  {
   "cell_type": "markdown",
   "id": "1247ff27",
   "metadata": {},
   "source": [
    "- [x]  Jupyter Notebook открыт\n",
    "- [x]  Весь код выполняется без ошибок\n",
    "- [x]  Ячейки с кодом расположены в порядке исполнения\n",
    "- [x]  Выполнен шаг 1: данные загружены\n",
    "- [x]  Выполнен шаг 2: получен ответ на вопрос об умножении матриц\n",
    "    - [x]  Указан правильный вариант ответа\n",
    "    - [x]  Вариант обоснован\n",
    "- [x]  Выполнен шаг 3: предложен алгоритм преобразования\n",
    "    - [x]  Алгоритм описан\n",
    "    - [x]  Алгоритм обоснован\n",
    "- [x]  Выполнен шаг 4: алгоритм проверен\n",
    "    - [x]  Алгоритм реализован\n",
    "    - [x]  Проведено сравнение качества моделей до и после преобразования"
   ]
  }
 ],
 "metadata": {
  "ExecuteTimeLog": [
   {
    "duration": 2142,
    "start_time": "2022-09-07T07:23:55.996Z"
   },
   {
    "duration": 164,
    "start_time": "2022-09-07T07:23:58.140Z"
   },
   {
    "duration": 25,
    "start_time": "2022-09-07T07:23:58.306Z"
   },
   {
    "duration": 16,
    "start_time": "2022-09-07T07:23:58.335Z"
   },
   {
    "duration": 11,
    "start_time": "2022-09-07T07:23:58.353Z"
   },
   {
    "duration": 8,
    "start_time": "2022-09-07T07:23:58.366Z"
   },
   {
    "duration": 34,
    "start_time": "2022-09-07T07:23:58.375Z"
   },
   {
    "duration": 11,
    "start_time": "2022-09-07T07:23:58.417Z"
   },
   {
    "duration": 9,
    "start_time": "2022-09-07T07:23:58.432Z"
   },
   {
    "duration": 7,
    "start_time": "2022-09-07T07:23:58.443Z"
   },
   {
    "duration": 12,
    "start_time": "2022-09-07T07:23:58.451Z"
   },
   {
    "duration": 448,
    "start_time": "2022-09-07T07:23:58.465Z"
   },
   {
    "duration": 21,
    "start_time": "2022-09-07T07:23:58.915Z"
   },
   {
    "duration": 8,
    "start_time": "2022-09-07T07:23:58.938Z"
   },
   {
    "duration": 6,
    "start_time": "2022-09-07T07:23:58.948Z"
   },
   {
    "duration": 65,
    "start_time": "2022-09-07T07:23:58.956Z"
   },
   {
    "duration": 93,
    "start_time": "2022-09-07T07:23:59.023Z"
   },
   {
    "duration": 128,
    "start_time": "2022-09-07T07:23:59.118Z"
   },
   {
    "duration": 188,
    "start_time": "2022-09-07T07:23:59.306Z"
   },
   {
    "duration": 31,
    "start_time": "2022-09-07T07:23:59.495Z"
   },
   {
    "duration": 88,
    "start_time": "2022-09-07T07:23:59.537Z"
   }
  ],
  "kernelspec": {
   "display_name": "Python 3 (ipykernel)",
   "language": "python",
   "name": "python3"
  },
  "language_info": {
   "codemirror_mode": {
    "name": "ipython",
    "version": 3
   },
   "file_extension": ".py",
   "mimetype": "text/x-python",
   "name": "python",
   "nbconvert_exporter": "python",
   "pygments_lexer": "ipython3",
   "version": "3.9.7"
  },
  "toc": {
   "base_numbering": 1,
   "nav_menu": {},
   "number_sections": true,
   "sideBar": true,
   "skip_h1_title": true,
   "title_cell": "Table of Contents",
   "title_sidebar": "Contents",
   "toc_cell": false,
   "toc_position": {},
   "toc_section_display": true,
   "toc_window_display": false
  }
 },
 "nbformat": 4,
 "nbformat_minor": 5
}
